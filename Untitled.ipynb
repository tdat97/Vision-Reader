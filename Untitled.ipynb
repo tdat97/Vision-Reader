{
 "cells": [
  {
   "cell_type": "code",
   "execution_count": 1,
   "id": "675a3d67-01f5-405e-a42b-da58705a1f10",
   "metadata": {
    "tags": []
   },
   "outputs": [
    {
     "ename": "TypeError",
     "evalue": "stat: path should be string, bytes, os.PathLike or integer, not NoneType",
     "output_type": "error",
     "traceback": [
      "\u001b[1;31m---------------------------------------------------------------------------\u001b[0m",
      "\u001b[1;31mTypeError\u001b[0m                                 Traceback (most recent call last)",
      "Cell \u001b[1;32mIn[1], line 3\u001b[0m\n\u001b[0;32m      1\u001b[0m \u001b[38;5;28;01mimport\u001b[39;00m \u001b[38;5;21;01mos\u001b[39;00m\n\u001b[1;32m----> 3\u001b[0m \u001b[43mos\u001b[49m\u001b[38;5;241;43m.\u001b[39;49m\u001b[43mpath\u001b[49m\u001b[38;5;241;43m.\u001b[39;49m\u001b[43misfile\u001b[49m\u001b[43m(\u001b[49m\u001b[38;5;28;43;01mNone\u001b[39;49;00m\u001b[43m)\u001b[49m\n",
      "File \u001b[1;32mC:\\Program Files\\Python38\\lib\\genericpath.py:30\u001b[0m, in \u001b[0;36misfile\u001b[1;34m(path)\u001b[0m\n\u001b[0;32m     28\u001b[0m \u001b[38;5;250m\u001b[39m\u001b[38;5;124;03m\"\"\"Test whether a path is a regular file\"\"\"\u001b[39;00m\n\u001b[0;32m     29\u001b[0m \u001b[38;5;28;01mtry\u001b[39;00m:\n\u001b[1;32m---> 30\u001b[0m     st \u001b[38;5;241m=\u001b[39m \u001b[43mos\u001b[49m\u001b[38;5;241;43m.\u001b[39;49m\u001b[43mstat\u001b[49m\u001b[43m(\u001b[49m\u001b[43mpath\u001b[49m\u001b[43m)\u001b[49m\n\u001b[0;32m     31\u001b[0m \u001b[38;5;28;01mexcept\u001b[39;00m (\u001b[38;5;167;01mOSError\u001b[39;00m, \u001b[38;5;167;01mValueError\u001b[39;00m):\n\u001b[0;32m     32\u001b[0m     \u001b[38;5;28;01mreturn\u001b[39;00m \u001b[38;5;28;01mFalse\u001b[39;00m\n",
      "\u001b[1;31mTypeError\u001b[0m: stat: path should be string, bytes, os.PathLike or integer, not NoneType"
     ]
    }
   ],
   "source": [
    "import os\n",
    "\n",
    "os.path.isfile(None)"
   ]
  },
  {
   "cell_type": "code",
   "execution_count": 59,
   "id": "80b6225e-4f83-4f2d-b679-aac795a1797b",
   "metadata": {
    "tags": []
   },
   "outputs": [
    {
     "data": {
      "text/html": [
       "<div>\n",
       "<style scoped>\n",
       "    .dataframe tbody tr th:only-of-type {\n",
       "        vertical-align: middle;\n",
       "    }\n",
       "\n",
       "    .dataframe tbody tr th {\n",
       "        vertical-align: top;\n",
       "    }\n",
       "\n",
       "    .dataframe thead th {\n",
       "        text-align: right;\n",
       "    }\n",
       "</style>\n",
       "<table border=\"1\" class=\"dataframe\">\n",
       "  <thead>\n",
       "    <tr style=\"text-align: right;\">\n",
       "      <th></th>\n",
       "      <th>name</th>\n",
       "    </tr>\n",
       "    <tr>\n",
       "      <th>code</th>\n",
       "      <th></th>\n",
       "    </tr>\n",
       "  </thead>\n",
       "  <tbody>\n",
       "    <tr>\n",
       "      <th>111</th>\n",
       "      <td>123</td>\n",
       "    </tr>\n",
       "    <tr>\n",
       "      <th>222</th>\n",
       "      <td>124</td>\n",
       "    </tr>\n",
       "  </tbody>\n",
       "</table>\n",
       "</div>"
      ],
      "text/plain": [
       "      name\n",
       "code      \n",
       "111    123\n",
       "222    124"
      ]
     },
     "execution_count": 59,
     "metadata": {},
     "output_type": "execute_result"
    }
   ],
   "source": [
    "import pandas as pd\n",
    "\n",
    "rows = [(123,),(124,),]\n",
    "index = [111,222]\n",
    "df = pd.DataFrame(rows, columns=[\"name\"], index=index, )\n",
    "df.index.name = 'code'\n",
    "df"
   ]
  },
  {
   "cell_type": "code",
   "execution_count": 71,
   "id": "91c368a9-a25b-4f27-9caf-d8561528d4c2",
   "metadata": {
    "tags": []
   },
   "outputs": [
    {
     "data": {
      "text/plain": [
       "111"
      ]
     },
     "execution_count": 71,
     "metadata": {},
     "output_type": "execute_result"
    }
   ],
   "source": [
    "df[df[\"name\"] == 123].index[0]"
   ]
  },
  {
   "cell_type": "code",
   "execution_count": 73,
   "id": "d0208625-08f1-4b65-badb-dd5bb3aac7fe",
   "metadata": {
    "tags": []
   },
   "outputs": [],
   "source": [
    "df[df[\"name\"] == 123] = [125]"
   ]
  },
  {
   "cell_type": "code",
   "execution_count": 103,
   "id": "f027f7b3-7e59-4b2c-9208-830f3335af29",
   "metadata": {
    "tags": []
   },
   "outputs": [
    {
     "name": "stdout",
     "output_type": "stream",
     "text": [
      "['22.22.22']\n"
     ]
    }
   ],
   "source": [
    "import re\n",
    "\n",
    "text = \"1222.22.22\"\n",
    "aa = re.findall(\"[0-9]{2}[^0-9][0-9]{2}[^0-9][0-9]{2}\", text)\n",
    "print(aa)\n",
    "# bb = re.sub(r'[^0-9]', '', text)\n",
    "# print(bb)"
   ]
  },
  {
   "cell_type": "code",
   "execution_count": 104,
   "id": "921f49c4-cea3-4ca2-8ac5-9e9a27b50965",
   "metadata": {
    "tags": []
   },
   "outputs": [
    {
     "data": {
      "text/plain": [
       "{'a': 11, 'b': 22}"
      ]
     },
     "execution_count": 104,
     "metadata": {},
     "output_type": "execute_result"
    }
   ],
   "source": [
    "aa = {\"a\":1, 'b':2}\n",
    "cc = dict(zip(aa.keys(), [11,22]))\n",
    "cc"
   ]
  },
  {
   "cell_type": "code",
   "execution_count": 106,
   "id": "8edd3085-ef45-4e2e-9bd1-edba98d062fd",
   "metadata": {
    "tags": []
   },
   "outputs": [
    {
     "data": {
      "text/plain": [
       "{'aa': {'a': 1, 'b': 2}, 'bb': {'a': 11, 'b': 22}}"
      ]
     },
     "execution_count": 106,
     "metadata": {},
     "output_type": "execute_result"
    }
   ],
   "source": [
    "import json\n",
    "\n",
    "dic = {\"aa\":{\"a\":1, \"b\":2}, \"bb\":{\"a\":11, \"b\":22}, }\n",
    "with open(\"test.json\", 'w') as f:\n",
    "    json.dump(dic, f, indent=2)\n",
    "    \n",
    "    \n",
    "with open(\"test.json\", 'r') as f:\n",
    "    data = json.load(f)\n",
    "    \n",
    "data"
   ]
  },
  {
   "cell_type": "code",
   "execution_count": 123,
   "id": "b7590e39-1b59-4318-bf08-01a93cd127d4",
   "metadata": {
    "tags": []
   },
   "outputs": [],
   "source": [
    "import traceback"
   ]
  },
  {
   "cell_type": "code",
   "execution_count": 112,
   "id": "76699b2e-ac76-4704-9cb6-bd3925d821a6",
   "metadata": {
    "tags": []
   },
   "outputs": [
    {
     "data": {
      "text/plain": [
       "{1, 4, 9}"
      ]
     },
     "execution_count": 112,
     "metadata": {},
     "output_type": "execute_result"
    }
   ],
   "source": [
    "aa = [1,2,3]\n",
    "set(map(lambda x:x**2, aa))"
   ]
  },
  {
   "cell_type": "code",
   "execution_count": null,
   "id": "afecb7da-8c87-4b3b-97ca-8bb0dd98c58d",
   "metadata": {},
   "outputs": [],
   "source": []
  },
  {
   "cell_type": "code",
   "execution_count": null,
   "id": "754e0670-46bf-4fac-aff1-b9c737252b00",
   "metadata": {},
   "outputs": [],
   "source": []
  },
  {
   "cell_type": "code",
   "execution_count": 1,
   "id": "05583306-27da-4a9d-8d96-aaa90c7e65ad",
   "metadata": {
    "tags": []
   },
   "outputs": [],
   "source": [
    "from common.text import *\n",
    "from utils.crypto import glance\n",
    "import json\n",
    "import pymysql\n",
    "\n",
    "# db_info_path = DB_INFO_PATH\n",
    "# key_path = KEY_PATH\n",
    "\n",
    "# db_info_str = glance(db_info_path, key_path)\n",
    "# db_info_dic = json.loads(db_info_str)\n",
    "\n",
    "# # DB 연결\n",
    "# con = pymysql.connect(**db_info_dic, charset='utf8', autocommit=True, \n",
    "#                            cursorclass=pymysql.cursors.Cursor)"
   ]
  },
  {
   "cell_type": "code",
   "execution_count": null,
   "id": "c0ffe5ea-0213-4a89-b28c-608b22edc8df",
   "metadata": {},
   "outputs": [],
   "source": []
  },
  {
   "cell_type": "code",
   "execution_count": 6,
   "id": "6fa55b61-c214-4a2f-958e-71e6e8ee8076",
   "metadata": {
    "tags": []
   },
   "outputs": [
    {
     "data": {
      "text/plain": [
       "{'488655': '카바노치(휴먼메쯔거라이)/250g',\n",
       " '488656': '비어슁켄(휴먼메쯔거라이)/400g',\n",
       " '488658': '비어슁켄/휴먼/2500g [2500]',\n",
       " '488585': '식자재왕 모듬4종 부대찌개1kg(냉동)/10',\n",
       " '488604': 'CJ 클래식 모듬부대찌개햄 1kg(냉동)/10'}"
      ]
     },
     "execution_count": 6,
     "metadata": {},
     "output_type": "execute_result"
    }
   ],
   "source": [
    "class DBManager():\n",
    "    def __init__(self, db_info_path, sql_path, key_path=None):\n",
    "        self.whoami = \"db\"\n",
    "        \n",
    "        # DB 정보 가져오기\n",
    "        db_info_str = glance(db_info_path, key_path)\n",
    "        db_info_dic = json.loads(db_info_str)\n",
    "        \n",
    "        # DB 연결\n",
    "        self.con = pymysql.connect(**db_info_dic, charset='utf8', autocommit=True, \n",
    "                                   cursorclass=pymysql.cursors.Cursor)\n",
    "        self.cur = self.con.cursor()\n",
    "        \n",
    "        # sql 가져오기\n",
    "        with open(sql_path, 'r') as f:\n",
    "            self.sql = f.read()\n",
    "        \n",
    "        # 초기화\n",
    "        self.code2name = None\n",
    "        self.name2code = None\n",
    "        self.update_order_today()\n",
    "                    \n",
    "    def update_order_today(self):\n",
    "        self.cur.execute(self.sql)\n",
    "        rows = self.cur.fetchall()\n",
    "        self.code2name = dict(rows)\n",
    "        self.name2code = dict(zip(self.code2name.values(), self.code2name.keys()))\n",
    "        \n",
    "    def __del__(self):\n",
    "        self.con.close()\n",
    "        \n",
    "db_mng = DBManager(db_info_path=DB_INFO_PATH, key_path=KEY_PATH, sql_path=SQL_PATH)\n",
    "db_mng.code2name"
   ]
  },
  {
   "cell_type": "code",
   "execution_count": null,
   "id": "8f06f844-0ac6-4267-8380-831769c28f4f",
   "metadata": {},
   "outputs": [],
   "source": []
  },
  {
   "cell_type": "code",
   "execution_count": 25,
   "id": "fa1a0f0f-f7bf-4a67-8fa5-d9349643ae4c",
   "metadata": {
    "tags": []
   },
   "outputs": [
    {
     "data": {
      "text/plain": [
       "(100, 20)"
      ]
     },
     "execution_count": 25,
     "metadata": {},
     "output_type": "execute_result"
    }
   ],
   "source": [
    "import cv2\n",
    "\n",
    "img_arr = np.zeros((20,100), dtype=np.uint8)\n",
    "cv2.rotate(img_arr, 0).shape"
   ]
  },
  {
   "cell_type": "code",
   "execution_count": 21,
   "id": "41b37816-0951-4de1-b6b9-bd6983dcae48",
   "metadata": {
    "tags": []
   },
   "outputs": [
    {
     "name": "stdout",
     "output_type": "stream",
     "text": [
      "0\n",
      "1\n",
      "2\n"
     ]
    }
   ],
   "source": [
    "print(cv2.ROTATE_90_CLOCKWISE)\n",
    "print(cv2.ROTATE_180)\n",
    "print(cv2.ROTATE_90_COUNTERCLOCKWISE)\n"
   ]
  },
  {
   "cell_type": "code",
   "execution_count": 26,
   "id": "8b4d4719-cd04-4bad-95e4-5308c2677eb1",
   "metadata": {
    "tags": []
   },
   "outputs": [
    {
     "ename": "AttributeError",
     "evalue": "module 'cv2' has no attribute 'warpPerspectiveTransform'",
     "output_type": "error",
     "traceback": [
      "\u001b[1;31m---------------------------------------------------------------------------\u001b[0m",
      "\u001b[1;31mAttributeError\u001b[0m                            Traceback (most recent call last)",
      "Cell \u001b[1;32mIn[26], line 1\u001b[0m\n\u001b[1;32m----> 1\u001b[0m \u001b[43mcv2\u001b[49m\u001b[38;5;241;43m.\u001b[39;49m\u001b[43mwarpPerspectiveTransform\u001b[49m\n",
      "\u001b[1;31mAttributeError\u001b[0m: module 'cv2' has no attribute 'warpPerspectiveTransform'"
     ]
    }
   ],
   "source": [
    "inv_M = cv2.getPerspectiveTransform(dst_polys[i], best_obj.src_polys[i])\n",
    "img_trans = cv2.warpPerspective(img, inv_M, (w, h))\n",
    "\n"
   ]
  },
  {
   "cell_type": "code",
   "execution_count": 38,
   "id": "96cdb87a-0683-46f1-a870-88eba90fa96f",
   "metadata": {
    "tags": []
   },
   "outputs": [
    {
     "name": "stdout",
     "output_type": "stream",
     "text": [
      "[[ 5.31141853e-01 -2.19509983e+00  1.55498212e+03]\n",
      " [-3.71707087e-01 -1.85918843e-01  4.69331489e+02]\n",
      " [-4.68961036e-04 -5.54033148e-04  1.00000000e+00]]\n"
     ]
    }
   ],
   "source": [
    "import numpy as np\n",
    "import cv2\n",
    "\n",
    "aa = np.random.randint(0, 2550, 8).reshape(4,2).astype(np.float32)\n",
    "bb = np.random.randint(0, 2550, 8).reshape(4,2).astype(np.float32)\n",
    "\n",
    "# pos = np.float32([[0,0], [w,0], [w,h], [0,h]])\n",
    "# M = cv2.getPerspectiveTransform(poly, pos)\n",
    "\n",
    "M = cv2.getPerspectiveTransform(aa,bb)\n",
    "print(M)"
   ]
  },
  {
   "cell_type": "code",
   "execution_count": 36,
   "id": "0f03ce0c-0b6a-4820-a85b-25ce0f28d9cb",
   "metadata": {
    "tags": []
   },
   "outputs": [
    {
     "data": {
      "text/plain": [
       "array([[ 1.84428172e+01,  3.25474943e+01, -5.10876138e+04],\n",
       "       [ 6.53658180e+00,  1.42000874e+01, -1.99186574e+04],\n",
       "       [ 1.48645556e-02,  2.39549511e-02, -3.86266835e+01]])"
      ]
     },
     "execution_count": 36,
     "metadata": {},
     "output_type": "execute_result"
    }
   ],
   "source": [
    "np.linalg.inv(M)"
   ]
  },
  {
   "cell_type": "code",
   "execution_count": 37,
   "id": "ff9a7426-b3e6-45b7-903b-f9bb99b016ae",
   "metadata": {
    "tags": []
   },
   "outputs": [
    {
     "data": {
      "text/plain": [
       "array([[ 1.84428172e+01,  3.25474943e+01, -5.10876138e+04],\n",
       "       [ 6.53658180e+00,  1.42000874e+01, -1.99186574e+04],\n",
       "       [ 1.48645556e-02,  2.39549511e-02, -3.86266835e+01]])"
      ]
     },
     "execution_count": 37,
     "metadata": {},
     "output_type": "execute_result"
    }
   ],
   "source": [
    "np.linalg.pinv(M)"
   ]
  },
  {
   "cell_type": "code",
   "execution_count": 41,
   "id": "f258fef0-0c5f-4a60-b6fd-3f7f60fb28ac",
   "metadata": {
    "tags": []
   },
   "outputs": [
    {
     "data": {
      "text/plain": [
       "(4, 1, 2)"
      ]
     },
     "execution_count": 41,
     "metadata": {},
     "output_type": "execute_result"
    }
   ],
   "source": [
    "cv2.perspectiveTransform(aa.reshape(-1, 1, 2), M).shape"
   ]
  },
  {
   "cell_type": "code",
   "execution_count": 44,
   "id": "2966206d-27e6-47b3-8618-29e85fcd1074",
   "metadata": {
    "tags": []
   },
   "outputs": [
    {
     "data": {
      "text/plain": [
       "(219, 123)"
      ]
     },
     "execution_count": 44,
     "metadata": {},
     "output_type": "execute_result"
    }
   ],
   "source": [
    "from common.text import *\n",
    "from PIL import Image\n",
    "\n",
    "img_pil = Image.open(LOGO_PATH)\n",
    "\n",
    "img_pil.size"
   ]
  },
  {
   "cell_type": "code",
   "execution_count": null,
   "id": "341998f3-93d2-49a1-bbe2-9fdffc842d2b",
   "metadata": {},
   "outputs": [],
   "source": []
  },
  {
   "cell_type": "code",
   "execution_count": 28,
   "id": "68eda0ba-1895-40b2-bd5c-44ef4869bd5d",
   "metadata": {
    "tags": []
   },
   "outputs": [
    {
     "data": {
      "text/plain": [
       "array([[ 1.24352332e+00, -9.84455959e-01, -2.59067358e+00],\n",
       "       [-9.32642487e-01,  1.45077720e+00, -5.18134715e+00],\n",
       "       [-1.24352332e-03,  4.14507772e-04,  1.00000000e+00]])"
      ]
     },
     "execution_count": 28,
     "metadata": {},
     "output_type": "execute_result"
    }
   ],
   "source": [
    "from common import tool\n",
    "import cv2\n",
    "import numpy as np\n",
    "w = 100\n",
    "h = 200\n",
    "\n",
    "poly = np.float32([[10,10], [150,100], [300,300], [200,250]])\n",
    "pos = np.float32([[0,0], [w,0], [w,h], [0,h]])\n",
    "M = cv2.getPerspectiveTransform(poly, pos)\n",
    "M\n"
   ]
  },
  {
   "cell_type": "code",
   "execution_count": 31,
   "id": "c73c80ae-8ee6-47bd-a217-0e92e22f7b60",
   "metadata": {
    "tags": []
   },
   "outputs": [],
   "source": [
    "pos2 = np.float32([[0,0], [h,0], [h,w], [0,w]])"
   ]
  },
  {
   "cell_type": "code",
   "execution_count": 32,
   "id": "4eb50bc1-d368-4ca9-976d-2a4abe8ccdac",
   "metadata": {
    "tags": []
   },
   "outputs": [
    {
     "data": {
      "text/plain": [
       "array([[ 6.83937824e-01, -1.36787565e+00,  2.05181347e+02],\n",
       "       [ 1.24352332e+00, -9.84455959e-01, -2.59067358e+00],\n",
       "       [-1.24352332e-03,  4.14507772e-04,  1.00000000e+00]])"
      ]
     },
     "execution_count": 32,
     "metadata": {},
     "output_type": "execute_result"
    }
   ],
   "source": [
    "M = cv2.getPerspectiveTransform(poly[[3,0,1,2]], pos2)\n",
    "M"
   ]
  },
  {
   "cell_type": "code",
   "execution_count": 33,
   "id": "b3fa1632-e366-420e-8160-53723f40ad0e",
   "metadata": {
    "tags": []
   },
   "outputs": [
    {
     "data": {
      "text/plain": [
       "array([[-1.36787565e+00,  1.02590674e+00,  1.02590674e+02],\n",
       "       [ 6.83937824e-01, -1.36787565e+00,  2.05181347e+02],\n",
       "       [-1.24352332e-03,  4.14507772e-04,  1.00000000e+00]])"
      ]
     },
     "execution_count": 33,
     "metadata": {},
     "output_type": "execute_result"
    }
   ],
   "source": [
    "M = cv2.getPerspectiveTransform(poly[[2,3,0,1]], pos)\n",
    "M"
   ]
  },
  {
   "cell_type": "code",
   "execution_count": null,
   "id": "adb69339-4b2e-488a-84d6-98e4a4cfde2e",
   "metadata": {},
   "outputs": [],
   "source": []
  },
  {
   "cell_type": "code",
   "execution_count": 8,
   "id": "7d376e14-c7f5-4d73-9db5-0c82c00de734",
   "metadata": {},
   "outputs": [],
   "source": [
    "import tkinter as tk\n",
    "\n",
    "root = tk.Tk()\n",
    "\n",
    "scale = tk.Scale(root, from_=2, to=32, tickinterval=2, orient='vertical')\n",
    "scale.set(16)  # 초기값 설정\n",
    "scale.pack()\n",
    "\n",
    "root.mainloop()"
   ]
  },
  {
   "cell_type": "code",
   "execution_count": 11,
   "id": "a98d70f2-3050-4b46-b128-5489e2cfdd70",
   "metadata": {
    "collapsed": true,
    "jupyter": {
     "outputs_hidden": true
    },
    "tags": []
   },
   "outputs": [
    {
     "ename": "TclError",
     "evalue": "unknown option \"-values\"",
     "output_type": "error",
     "traceback": [
      "\u001b[1;31m---------------------------------------------------------------------------\u001b[0m",
      "\u001b[1;31mTclError\u001b[0m                                  Traceback (most recent call last)",
      "Cell \u001b[1;32mIn[11], line 6\u001b[0m\n\u001b[0;32m      2\u001b[0m \u001b[38;5;28;01mfrom\u001b[39;00m \u001b[38;5;21;01mtkinter\u001b[39;00m \u001b[38;5;28;01mimport\u001b[39;00m ttk\n\u001b[0;32m      4\u001b[0m root \u001b[38;5;241m=\u001b[39m tk\u001b[38;5;241m.\u001b[39mTk()\n\u001b[1;32m----> 6\u001b[0m scale \u001b[38;5;241m=\u001b[39m \u001b[43mttk\u001b[49m\u001b[38;5;241;43m.\u001b[39;49m\u001b[43mScale\u001b[49m\u001b[43m(\u001b[49m\u001b[43mroot\u001b[49m\u001b[43m,\u001b[49m\u001b[43m \u001b[49m\u001b[43mfrom_\u001b[49m\u001b[38;5;241;43m=\u001b[39;49m\u001b[38;5;241;43m2\u001b[39;49m\u001b[43m,\u001b[49m\u001b[43m \u001b[49m\u001b[43mto\u001b[49m\u001b[38;5;241;43m=\u001b[39;49m\u001b[38;5;241;43m32\u001b[39;49m\u001b[43m,\u001b[49m\u001b[43m \u001b[49m\u001b[43mvalues\u001b[49m\u001b[38;5;241;43m=\u001b[39;49m\u001b[43m[\u001b[49m\u001b[38;5;241;43m2\u001b[39;49m\u001b[43m,\u001b[49m\u001b[43m \u001b[49m\u001b[38;5;241;43m4\u001b[39;49m\u001b[43m,\u001b[49m\u001b[43m \u001b[49m\u001b[38;5;241;43m8\u001b[39;49m\u001b[43m,\u001b[49m\u001b[43m \u001b[49m\u001b[38;5;241;43m16\u001b[39;49m\u001b[43m,\u001b[49m\u001b[43m \u001b[49m\u001b[38;5;241;43m32\u001b[39;49m\u001b[43m]\u001b[49m\u001b[43m,\u001b[49m\u001b[43m \u001b[49m\u001b[43morient\u001b[49m\u001b[38;5;241;43m=\u001b[39;49m\u001b[38;5;124;43m'\u001b[39;49m\u001b[38;5;124;43mvertical\u001b[39;49m\u001b[38;5;124;43m'\u001b[39;49m\u001b[43m)\u001b[49m\n\u001b[0;32m      7\u001b[0m scale\u001b[38;5;241m.\u001b[39mset(\u001b[38;5;241m16\u001b[39m)  \u001b[38;5;66;03m# 초기값 설정\u001b[39;00m\n\u001b[0;32m      8\u001b[0m scale\u001b[38;5;241m.\u001b[39mpack()\n",
      "File \u001b[1;32mC:\\Program Files\\Python38\\lib\\tkinter\\ttk.py:1074\u001b[0m, in \u001b[0;36mScale.__init__\u001b[1;34m(self, master, **kw)\u001b[0m\n\u001b[0;32m   1063\u001b[0m \u001b[38;5;28;01mdef\u001b[39;00m \u001b[38;5;21m__init__\u001b[39m(\u001b[38;5;28mself\u001b[39m, master\u001b[38;5;241m=\u001b[39m\u001b[38;5;28;01mNone\u001b[39;00m, \u001b[38;5;241m*\u001b[39m\u001b[38;5;241m*\u001b[39mkw):\n\u001b[0;32m   1064\u001b[0m \u001b[38;5;250m    \u001b[39m\u001b[38;5;124;03m\"\"\"Construct a Ttk Scale with parent master.\u001b[39;00m\n\u001b[0;32m   1065\u001b[0m \n\u001b[0;32m   1066\u001b[0m \u001b[38;5;124;03m    STANDARD OPTIONS\u001b[39;00m\n\u001b[1;32m   (...)\u001b[0m\n\u001b[0;32m   1072\u001b[0m \u001b[38;5;124;03m        command, from, length, orient, to, value, variable\u001b[39;00m\n\u001b[0;32m   1073\u001b[0m \u001b[38;5;124;03m    \"\"\"\u001b[39;00m\n\u001b[1;32m-> 1074\u001b[0m     \u001b[43mWidget\u001b[49m\u001b[38;5;241;43m.\u001b[39;49m\u001b[38;5;21;43m__init__\u001b[39;49m\u001b[43m(\u001b[49m\u001b[38;5;28;43mself\u001b[39;49m\u001b[43m,\u001b[49m\u001b[43m \u001b[49m\u001b[43mmaster\u001b[49m\u001b[43m,\u001b[49m\u001b[43m \u001b[49m\u001b[38;5;124;43m\"\u001b[39;49m\u001b[38;5;124;43mttk::scale\u001b[39;49m\u001b[38;5;124;43m\"\u001b[39;49m\u001b[43m,\u001b[49m\u001b[43m \u001b[49m\u001b[43mkw\u001b[49m\u001b[43m)\u001b[49m\n",
      "File \u001b[1;32mC:\\Program Files\\Python38\\lib\\tkinter\\ttk.py:552\u001b[0m, in \u001b[0;36mWidget.__init__\u001b[1;34m(self, master, widgetname, kw)\u001b[0m\n\u001b[0;32m    549\u001b[0m \u001b[38;5;28;01mif\u001b[39;00m \u001b[38;5;129;01mnot\u001b[39;00m \u001b[38;5;28mgetattr\u001b[39m(master, \u001b[38;5;124m'\u001b[39m\u001b[38;5;124m_tile_loaded\u001b[39m\u001b[38;5;124m'\u001b[39m, \u001b[38;5;28;01mFalse\u001b[39;00m):\n\u001b[0;32m    550\u001b[0m     \u001b[38;5;66;03m# Load tile now, if needed\u001b[39;00m\n\u001b[0;32m    551\u001b[0m     _load_tile(master)\n\u001b[1;32m--> 552\u001b[0m \u001b[43mtkinter\u001b[49m\u001b[38;5;241;43m.\u001b[39;49m\u001b[43mWidget\u001b[49m\u001b[38;5;241;43m.\u001b[39;49m\u001b[38;5;21;43m__init__\u001b[39;49m\u001b[43m(\u001b[49m\u001b[38;5;28;43mself\u001b[39;49m\u001b[43m,\u001b[49m\u001b[43m \u001b[49m\u001b[43mmaster\u001b[49m\u001b[43m,\u001b[49m\u001b[43m \u001b[49m\u001b[43mwidgetname\u001b[49m\u001b[43m,\u001b[49m\u001b[43m \u001b[49m\u001b[43mkw\u001b[49m\u001b[38;5;241;43m=\u001b[39;49m\u001b[43mkw\u001b[49m\u001b[43m)\u001b[49m\n",
      "File \u001b[1;32mC:\\Program Files\\Python38\\lib\\tkinter\\__init__.py:2572\u001b[0m, in \u001b[0;36mBaseWidget.__init__\u001b[1;34m(self, master, widgetName, cnf, kw, extra)\u001b[0m\n\u001b[0;32m   2570\u001b[0m \u001b[38;5;28;01mfor\u001b[39;00m k, v \u001b[38;5;129;01min\u001b[39;00m classes:\n\u001b[0;32m   2571\u001b[0m     \u001b[38;5;28;01mdel\u001b[39;00m cnf[k]\n\u001b[1;32m-> 2572\u001b[0m \u001b[38;5;28;43mself\u001b[39;49m\u001b[38;5;241;43m.\u001b[39;49m\u001b[43mtk\u001b[49m\u001b[38;5;241;43m.\u001b[39;49m\u001b[43mcall\u001b[49m\u001b[43m(\u001b[49m\n\u001b[0;32m   2573\u001b[0m \u001b[43m    \u001b[49m\u001b[43m(\u001b[49m\u001b[43mwidgetName\u001b[49m\u001b[43m,\u001b[49m\u001b[43m \u001b[49m\u001b[38;5;28;43mself\u001b[39;49m\u001b[38;5;241;43m.\u001b[39;49m\u001b[43m_w\u001b[49m\u001b[43m)\u001b[49m\u001b[43m \u001b[49m\u001b[38;5;241;43m+\u001b[39;49m\u001b[43m \u001b[49m\u001b[43mextra\u001b[49m\u001b[43m \u001b[49m\u001b[38;5;241;43m+\u001b[39;49m\u001b[43m \u001b[49m\u001b[38;5;28;43mself\u001b[39;49m\u001b[38;5;241;43m.\u001b[39;49m\u001b[43m_options\u001b[49m\u001b[43m(\u001b[49m\u001b[43mcnf\u001b[49m\u001b[43m)\u001b[49m\u001b[43m)\u001b[49m\n\u001b[0;32m   2574\u001b[0m \u001b[38;5;28;01mfor\u001b[39;00m k, v \u001b[38;5;129;01min\u001b[39;00m classes:\n\u001b[0;32m   2575\u001b[0m     k\u001b[38;5;241m.\u001b[39mconfigure(\u001b[38;5;28mself\u001b[39m, v)\n",
      "\u001b[1;31mTclError\u001b[0m: unknown option \"-values\""
     ]
    }
   ],
   "source": [
    "import tkinter as tk\n",
    "from tkinter import ttk\n",
    "\n",
    "root = tk.Tk()\n",
    "\n",
    "scale = ttk.Scale(root, from_=2, to=32, values=[2, 4, 8, 16, 32], orient='vertical')\n",
    "scale.set(16)  # 초기값 설정\n",
    "scale.pack()\n",
    "\n",
    "root.mainloop()\n"
   ]
  },
  {
   "cell_type": "code",
   "execution_count": 15,
   "id": "04bd5533-8d6f-4aba-ade6-587aa3fb3528",
   "metadata": {
    "tags": []
   },
   "outputs": [],
   "source": [
    "import json\n",
    "\n",
    "dic = {'a':123}\n",
    "with open('test2.json', 'w', encoding='utf-8') as f:\n",
    "    json.dump(dic, f, indent=2)"
   ]
  },
  {
   "cell_type": "code",
   "execution_count": 17,
   "id": "46a91c1e-d3e6-402f-a939-879a766f869e",
   "metadata": {
    "tags": []
   },
   "outputs": [
    {
     "data": {
      "text/plain": [
       "{'a': 124}"
      ]
     },
     "execution_count": 17,
     "metadata": {},
     "output_type": "execute_result"
    }
   ],
   "source": [
    "dic.update({'a':124})\n",
    "dic"
   ]
  },
  {
   "cell_type": "code",
   "execution_count": 41,
   "id": "f10e5343-ee17-4173-bc75-d7b4318d2022",
   "metadata": {
    "tags": []
   },
   "outputs": [
    {
     "name": "stdout",
     "output_type": "stream",
     "text": [
      "{'a': [1222, 2, 3, 4, 5]} {'a': [1, 2, 3, 4, 5]}\n"
     ]
    }
   ],
   "source": [
    "from copy import deepcopy\n",
    "\n",
    "bb = {'a':[1,2,3,4,5]}\n",
    "\n",
    "aa = {'b':333}\n",
    "\n",
    "aa = deepcopy(bb)\n",
    "aa['a'][0] = 1222\n",
    "\n",
    "\n",
    "print(aa, bb)"
   ]
  },
  {
   "cell_type": "code",
   "execution_count": 44,
   "id": "562bec89-ac94-4e34-9cb1-bba0f7644fa8",
   "metadata": {
    "tags": []
   },
   "outputs": [
    {
     "data": {
      "text/plain": [
       "{'4047': '후렌치파이사과',\n",
       " '5415': '이수시개',\n",
       " '4500': '담배',\n",
       " '33333': '보리차',\n",
       " '22222': '초코',\n",
       " '11111': '네모박스'}"
      ]
     },
     "execution_count": 44,
     "metadata": {},
     "output_type": "execute_result"
    }
   ],
   "source": [
    "import json\n",
    "\n",
    "with open(\"./source/nodb.json\", 'r', encoding='utf-8-sig') as f:\n",
    "    dic = json.load(f)\n",
    "\n",
    "dic"
   ]
  },
  {
   "cell_type": "code",
   "execution_count": 45,
   "id": "73f28b65-8379-433a-b451-abfb2301da73",
   "metadata": {
    "tags": []
   },
   "outputs": [
    {
     "data": {
      "text/plain": [
       "[('4047', '후렌치파이사과'),\n",
       " ('5415', '이수시개'),\n",
       " ('4500', '담배'),\n",
       " ('33333', '보리차'),\n",
       " ('22222', '초코'),\n",
       " ('11111', '네모박스')]"
      ]
     },
     "execution_count": 45,
     "metadata": {},
     "output_type": "execute_result"
    }
   ],
   "source": [
    "list(zip(dic.keys(), dic.values()))"
   ]
  },
  {
   "cell_type": "code",
   "execution_count": 77,
   "id": "63c71e29-d6df-414e-821e-56670e67ef45",
   "metadata": {
    "tags": []
   },
   "outputs": [
    {
     "data": {
      "text/html": [
       "<div>\n",
       "<style scoped>\n",
       "    .dataframe tbody tr th:only-of-type {\n",
       "        vertical-align: middle;\n",
       "    }\n",
       "\n",
       "    .dataframe tbody tr th {\n",
       "        vertical-align: top;\n",
       "    }\n",
       "\n",
       "    .dataframe thead th {\n",
       "        text-align: right;\n",
       "    }\n",
       "</style>\n",
       "<table border=\"1\" class=\"dataframe\">\n",
       "  <thead>\n",
       "    <tr style=\"text-align: right;\">\n",
       "      <th></th>\n",
       "      <th>ITEM_CD</th>\n",
       "      <th>ITEM_NM</th>\n",
       "    </tr>\n",
       "  </thead>\n",
       "  <tbody>\n",
       "    <tr>\n",
       "      <th>0</th>\n",
       "      <td>4047</td>\n",
       "      <td>후렌치파이사과</td>\n",
       "    </tr>\n",
       "    <tr>\n",
       "      <th>1</th>\n",
       "      <td>5415</td>\n",
       "      <td>이수시개</td>\n",
       "    </tr>\n",
       "    <tr>\n",
       "      <th>2</th>\n",
       "      <td>4500</td>\n",
       "      <td>담배</td>\n",
       "    </tr>\n",
       "    <tr>\n",
       "      <th>3</th>\n",
       "      <td>33333</td>\n",
       "      <td>보리차</td>\n",
       "    </tr>\n",
       "    <tr>\n",
       "      <th>4</th>\n",
       "      <td>22222</td>\n",
       "      <td>초코</td>\n",
       "    </tr>\n",
       "    <tr>\n",
       "      <th>5</th>\n",
       "      <td>11111</td>\n",
       "      <td>네모박스</td>\n",
       "    </tr>\n",
       "  </tbody>\n",
       "</table>\n",
       "</div>"
      ],
      "text/plain": [
       "  ITEM_CD  ITEM_NM\n",
       "0    4047  후렌치파이사과\n",
       "1    5415     이수시개\n",
       "2    4500       담배\n",
       "3   33333      보리차\n",
       "4   22222       초코\n",
       "5   11111     네모박스"
      ]
     },
     "execution_count": 77,
     "metadata": {},
     "output_type": "execute_result"
    }
   ],
   "source": [
    "import json\n",
    "import pandas as pd\n",
    "\n",
    "nodb_path = \"./source/nodb.json\"\n",
    "\n",
    "with open(nodb_path, 'r', encoding='utf-8-sig') as f:\n",
    "    dic = json.load(f)\n",
    "temp = list(zip(dic.keys(), dic.values()))\n",
    "df = pd.DataFrame(temp, columns=[\"ITEM_CD\", \"ITEM_NM\"])\n",
    "df\n"
   ]
  },
  {
   "cell_type": "code",
   "execution_count": 81,
   "id": "1bf91064-98c9-4cc5-aa92-c7424bd85545",
   "metadata": {
    "tags": []
   },
   "outputs": [
    {
     "data": {
      "text/html": [
       "<div>\n",
       "<style scoped>\n",
       "    .dataframe tbody tr th:only-of-type {\n",
       "        vertical-align: middle;\n",
       "    }\n",
       "\n",
       "    .dataframe tbody tr th {\n",
       "        vertical-align: top;\n",
       "    }\n",
       "\n",
       "    .dataframe thead th {\n",
       "        text-align: right;\n",
       "    }\n",
       "</style>\n",
       "<table border=\"1\" class=\"dataframe\">\n",
       "  <thead>\n",
       "    <tr style=\"text-align: right;\">\n",
       "      <th></th>\n",
       "      <th>ITEM_CD</th>\n",
       "      <th>ITEM_NM</th>\n",
       "    </tr>\n",
       "  </thead>\n",
       "  <tbody>\n",
       "    <tr>\n",
       "      <th>5</th>\n",
       "      <td>11111</td>\n",
       "      <td>네모박스</td>\n",
       "    </tr>\n",
       "  </tbody>\n",
       "</table>\n",
       "</div>"
      ],
      "text/plain": [
       "  ITEM_CD ITEM_NM\n",
       "5   11111    네모박스"
      ]
     },
     "execution_count": 81,
     "metadata": {},
     "output_type": "execute_result"
    }
   ],
   "source": [
    "df[df['ITEM_CD']==\"11111\"]#.loc[0, 'ITEM_NM']"
   ]
  },
  {
   "cell_type": "code",
   "execution_count": null,
   "id": "eac1cb5a-d205-4732-a86e-94a28b6db3d4",
   "metadata": {},
   "outputs": [],
   "source": []
  },
  {
   "cell_type": "code",
   "execution_count": 62,
   "id": "e1e8568b-160a-4340-ab6c-c4ec04853b91",
   "metadata": {
    "tags": []
   },
   "outputs": [],
   "source": [
    "temp = pd.Series(data=[12121, 'test'], index=['ITEM_CD', 'ITEM_NM'])"
   ]
  },
  {
   "cell_type": "code",
   "execution_count": 68,
   "id": "b9bbb25d-cf50-4e21-a521-c0be675c8cee",
   "metadata": {
    "tags": []
   },
   "outputs": [],
   "source": [
    "temp = pd.DataFrame([[12121, 'test']], columns=['ITEM_CD', 'ITEM_NM'])"
   ]
  },
  {
   "cell_type": "code",
   "execution_count": 70,
   "id": "01136adf-031a-44de-a6fd-41804a55ebcb",
   "metadata": {
    "tags": []
   },
   "outputs": [
    {
     "data": {
      "text/html": [
       "<div>\n",
       "<style scoped>\n",
       "    .dataframe tbody tr th:only-of-type {\n",
       "        vertical-align: middle;\n",
       "    }\n",
       "\n",
       "    .dataframe tbody tr th {\n",
       "        vertical-align: top;\n",
       "    }\n",
       "\n",
       "    .dataframe thead th {\n",
       "        text-align: right;\n",
       "    }\n",
       "</style>\n",
       "<table border=\"1\" class=\"dataframe\">\n",
       "  <thead>\n",
       "    <tr style=\"text-align: right;\">\n",
       "      <th></th>\n",
       "      <th>ITEM_CD</th>\n",
       "      <th>ITEM_NM</th>\n",
       "    </tr>\n",
       "  </thead>\n",
       "  <tbody>\n",
       "    <tr>\n",
       "      <th>0</th>\n",
       "      <td>4047</td>\n",
       "      <td>후렌치파이사과</td>\n",
       "    </tr>\n",
       "    <tr>\n",
       "      <th>1</th>\n",
       "      <td>5415</td>\n",
       "      <td>이수시개</td>\n",
       "    </tr>\n",
       "    <tr>\n",
       "      <th>2</th>\n",
       "      <td>4500</td>\n",
       "      <td>담배</td>\n",
       "    </tr>\n",
       "    <tr>\n",
       "      <th>3</th>\n",
       "      <td>33333</td>\n",
       "      <td>보리차</td>\n",
       "    </tr>\n",
       "    <tr>\n",
       "      <th>4</th>\n",
       "      <td>22222</td>\n",
       "      <td>초코</td>\n",
       "    </tr>\n",
       "    <tr>\n",
       "      <th>5</th>\n",
       "      <td>11111</td>\n",
       "      <td>네모박스</td>\n",
       "    </tr>\n",
       "    <tr>\n",
       "      <th>6</th>\n",
       "      <td>12121</td>\n",
       "      <td>test</td>\n",
       "    </tr>\n",
       "  </tbody>\n",
       "</table>\n",
       "</div>"
      ],
      "text/plain": [
       "  ITEM_CD  ITEM_NM\n",
       "0    4047  후렌치파이사과\n",
       "1    5415     이수시개\n",
       "2    4500       담배\n",
       "3   33333      보리차\n",
       "4   22222       초코\n",
       "5   11111     네모박스\n",
       "6   12121     test"
      ]
     },
     "execution_count": 70,
     "metadata": {},
     "output_type": "execute_result"
    }
   ],
   "source": [
    "pd.concat([df, temp], axis=0, ignore_index=True)"
   ]
  },
  {
   "cell_type": "code",
   "execution_count": 83,
   "id": "b99ada57-1008-4793-b730-02da503189cf",
   "metadata": {
    "tags": []
   },
   "outputs": [
    {
     "data": {
      "text/plain": [
       "array([[1, 2, 3]])"
      ]
     },
     "execution_count": 83,
     "metadata": {},
     "output_type": "execute_result"
    }
   ],
   "source": [
    "import numpy as np\n",
    "\n",
    "aa = np.array([[1,2,3]])\n",
    "bb = aa.copy()\n",
    "\n",
    "aa[0,0] = 123\n",
    "bb"
   ]
  }
 ],
 "metadata": {
  "kernelspec": {
   "display_name": "Python 3 (ipykernel)",
   "language": "python",
   "name": "python3"
  },
  "language_info": {
   "codemirror_mode": {
    "name": "ipython",
    "version": 3
   },
   "file_extension": ".py",
   "mimetype": "text/x-python",
   "name": "python",
   "nbconvert_exporter": "python",
   "pygments_lexer": "ipython3",
   "version": "3.8.10"
  }
 },
 "nbformat": 4,
 "nbformat_minor": 5
}
