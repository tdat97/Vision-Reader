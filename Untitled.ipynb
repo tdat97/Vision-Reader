{
 "cells": [
  {
   "cell_type": "code",
   "execution_count": 1,
   "id": "675a3d67-01f5-405e-a42b-da58705a1f10",
   "metadata": {
    "tags": []
   },
   "outputs": [
    {
     "ename": "TypeError",
     "evalue": "stat: path should be string, bytes, os.PathLike or integer, not NoneType",
     "output_type": "error",
     "traceback": [
      "\u001b[1;31m---------------------------------------------------------------------------\u001b[0m",
      "\u001b[1;31mTypeError\u001b[0m                                 Traceback (most recent call last)",
      "Cell \u001b[1;32mIn[1], line 3\u001b[0m\n\u001b[0;32m      1\u001b[0m \u001b[38;5;28;01mimport\u001b[39;00m \u001b[38;5;21;01mos\u001b[39;00m\n\u001b[1;32m----> 3\u001b[0m \u001b[43mos\u001b[49m\u001b[38;5;241;43m.\u001b[39;49m\u001b[43mpath\u001b[49m\u001b[38;5;241;43m.\u001b[39;49m\u001b[43misfile\u001b[49m\u001b[43m(\u001b[49m\u001b[38;5;28;43;01mNone\u001b[39;49;00m\u001b[43m)\u001b[49m\n",
      "File \u001b[1;32mC:\\Program Files\\Python38\\lib\\genericpath.py:30\u001b[0m, in \u001b[0;36misfile\u001b[1;34m(path)\u001b[0m\n\u001b[0;32m     28\u001b[0m \u001b[38;5;250m\u001b[39m\u001b[38;5;124;03m\"\"\"Test whether a path is a regular file\"\"\"\u001b[39;00m\n\u001b[0;32m     29\u001b[0m \u001b[38;5;28;01mtry\u001b[39;00m:\n\u001b[1;32m---> 30\u001b[0m     st \u001b[38;5;241m=\u001b[39m \u001b[43mos\u001b[49m\u001b[38;5;241;43m.\u001b[39;49m\u001b[43mstat\u001b[49m\u001b[43m(\u001b[49m\u001b[43mpath\u001b[49m\u001b[43m)\u001b[49m\n\u001b[0;32m     31\u001b[0m \u001b[38;5;28;01mexcept\u001b[39;00m (\u001b[38;5;167;01mOSError\u001b[39;00m, \u001b[38;5;167;01mValueError\u001b[39;00m):\n\u001b[0;32m     32\u001b[0m     \u001b[38;5;28;01mreturn\u001b[39;00m \u001b[38;5;28;01mFalse\u001b[39;00m\n",
      "\u001b[1;31mTypeError\u001b[0m: stat: path should be string, bytes, os.PathLike or integer, not NoneType"
     ]
    }
   ],
   "source": [
    "import os\n",
    "\n",
    "os.path.isfile(None)"
   ]
  },
  {
   "cell_type": "code",
   "execution_count": 59,
   "id": "80b6225e-4f83-4f2d-b679-aac795a1797b",
   "metadata": {
    "tags": []
   },
   "outputs": [
    {
     "data": {
      "text/html": [
       "<div>\n",
       "<style scoped>\n",
       "    .dataframe tbody tr th:only-of-type {\n",
       "        vertical-align: middle;\n",
       "    }\n",
       "\n",
       "    .dataframe tbody tr th {\n",
       "        vertical-align: top;\n",
       "    }\n",
       "\n",
       "    .dataframe thead th {\n",
       "        text-align: right;\n",
       "    }\n",
       "</style>\n",
       "<table border=\"1\" class=\"dataframe\">\n",
       "  <thead>\n",
       "    <tr style=\"text-align: right;\">\n",
       "      <th></th>\n",
       "      <th>name</th>\n",
       "    </tr>\n",
       "    <tr>\n",
       "      <th>code</th>\n",
       "      <th></th>\n",
       "    </tr>\n",
       "  </thead>\n",
       "  <tbody>\n",
       "    <tr>\n",
       "      <th>111</th>\n",
       "      <td>123</td>\n",
       "    </tr>\n",
       "    <tr>\n",
       "      <th>222</th>\n",
       "      <td>124</td>\n",
       "    </tr>\n",
       "  </tbody>\n",
       "</table>\n",
       "</div>"
      ],
      "text/plain": [
       "      name\n",
       "code      \n",
       "111    123\n",
       "222    124"
      ]
     },
     "execution_count": 59,
     "metadata": {},
     "output_type": "execute_result"
    }
   ],
   "source": [
    "import pandas as pd\n",
    "\n",
    "rows = [(123,),(124,),]\n",
    "index = [111,222]\n",
    "df = pd.DataFrame(rows, columns=[\"name\"], index=index, )\n",
    "df.index.name = 'code'\n",
    "df"
   ]
  },
  {
   "cell_type": "code",
   "execution_count": 71,
   "id": "91c368a9-a25b-4f27-9caf-d8561528d4c2",
   "metadata": {
    "tags": []
   },
   "outputs": [
    {
     "data": {
      "text/plain": [
       "111"
      ]
     },
     "execution_count": 71,
     "metadata": {},
     "output_type": "execute_result"
    }
   ],
   "source": [
    "df[df[\"name\"] == 123].index[0]"
   ]
  },
  {
   "cell_type": "code",
   "execution_count": 73,
   "id": "d0208625-08f1-4b65-badb-dd5bb3aac7fe",
   "metadata": {
    "tags": []
   },
   "outputs": [],
   "source": [
    "df[df[\"name\"] == 123] = [125]"
   ]
  },
  {
   "cell_type": "code",
   "execution_count": 103,
   "id": "f027f7b3-7e59-4b2c-9208-830f3335af29",
   "metadata": {
    "tags": []
   },
   "outputs": [
    {
     "name": "stdout",
     "output_type": "stream",
     "text": [
      "['22.22.22']\n"
     ]
    }
   ],
   "source": [
    "import re\n",
    "\n",
    "text = \"1222.22.22\"\n",
    "aa = re.findall(\"[0-9]{2}[^0-9][0-9]{2}[^0-9][0-9]{2}\", text)\n",
    "print(aa)\n",
    "# bb = re.sub(r'[^0-9]', '', text)\n",
    "# print(bb)"
   ]
  },
  {
   "cell_type": "code",
   "execution_count": 104,
   "id": "921f49c4-cea3-4ca2-8ac5-9e9a27b50965",
   "metadata": {
    "tags": []
   },
   "outputs": [
    {
     "data": {
      "text/plain": [
       "{'a': 11, 'b': 22}"
      ]
     },
     "execution_count": 104,
     "metadata": {},
     "output_type": "execute_result"
    }
   ],
   "source": [
    "aa = {\"a\":1, 'b':2}\n",
    "cc = dict(zip(aa.keys(), [11,22]))\n",
    "cc"
   ]
  },
  {
   "cell_type": "code",
   "execution_count": 106,
   "id": "8edd3085-ef45-4e2e-9bd1-edba98d062fd",
   "metadata": {
    "tags": []
   },
   "outputs": [
    {
     "data": {
      "text/plain": [
       "{'aa': {'a': 1, 'b': 2}, 'bb': {'a': 11, 'b': 22}}"
      ]
     },
     "execution_count": 106,
     "metadata": {},
     "output_type": "execute_result"
    }
   ],
   "source": [
    "import json\n",
    "\n",
    "dic = {\"aa\":{\"a\":1, \"b\":2}, \"bb\":{\"a\":11, \"b\":22}, }\n",
    "with open(\"test.json\", 'w') as f:\n",
    "    json.dump(dic, f, indent=2)\n",
    "    \n",
    "    \n",
    "with open(\"test.json\", 'r') as f:\n",
    "    data = json.load(f)\n",
    "    \n",
    "data"
   ]
  },
  {
   "cell_type": "code",
   "execution_count": 123,
   "id": "b7590e39-1b59-4318-bf08-01a93cd127d4",
   "metadata": {
    "tags": []
   },
   "outputs": [],
   "source": [
    "import traceback"
   ]
  },
  {
   "cell_type": "code",
   "execution_count": 112,
   "id": "76699b2e-ac76-4704-9cb6-bd3925d821a6",
   "metadata": {
    "tags": []
   },
   "outputs": [
    {
     "data": {
      "text/plain": [
       "{1, 4, 9}"
      ]
     },
     "execution_count": 112,
     "metadata": {},
     "output_type": "execute_result"
    }
   ],
   "source": [
    "aa = [1,2,3]\n",
    "set(map(lambda x:x**2, aa))"
   ]
  },
  {
   "cell_type": "code",
   "execution_count": null,
   "id": "afecb7da-8c87-4b3b-97ca-8bb0dd98c58d",
   "metadata": {},
   "outputs": [],
   "source": []
  },
  {
   "cell_type": "code",
   "execution_count": null,
   "id": "754e0670-46bf-4fac-aff1-b9c737252b00",
   "metadata": {},
   "outputs": [],
   "source": []
  },
  {
   "cell_type": "code",
   "execution_count": 1,
   "id": "05583306-27da-4a9d-8d96-aaa90c7e65ad",
   "metadata": {
    "tags": []
   },
   "outputs": [],
   "source": [
    "from common.text import *\n",
    "from utils.crypto import glance\n",
    "import json\n",
    "import pymysql\n",
    "\n",
    "# db_info_path = DB_INFO_PATH\n",
    "# key_path = KEY_PATH\n",
    "\n",
    "# db_info_str = glance(db_info_path, key_path)\n",
    "# db_info_dic = json.loads(db_info_str)\n",
    "\n",
    "# # DB 연결\n",
    "# con = pymysql.connect(**db_info_dic, charset='utf8', autocommit=True, \n",
    "#                            cursorclass=pymysql.cursors.Cursor)"
   ]
  },
  {
   "cell_type": "code",
   "execution_count": null,
   "id": "c0ffe5ea-0213-4a89-b28c-608b22edc8df",
   "metadata": {},
   "outputs": [],
   "source": []
  },
  {
   "cell_type": "code",
   "execution_count": 6,
   "id": "6fa55b61-c214-4a2f-958e-71e6e8ee8076",
   "metadata": {
    "tags": []
   },
   "outputs": [
    {
     "data": {
      "text/plain": [
       "{'488655': '카바노치(휴먼메쯔거라이)/250g',\n",
       " '488656': '비어슁켄(휴먼메쯔거라이)/400g',\n",
       " '488658': '비어슁켄/휴먼/2500g [2500]',\n",
       " '488585': '식자재왕 모듬4종 부대찌개1kg(냉동)/10',\n",
       " '488604': 'CJ 클래식 모듬부대찌개햄 1kg(냉동)/10'}"
      ]
     },
     "execution_count": 6,
     "metadata": {},
     "output_type": "execute_result"
    }
   ],
   "source": [
    "class DBManager():\n",
    "    def __init__(self, db_info_path, sql_path, key_path=None):\n",
    "        self.whoami = \"db\"\n",
    "        \n",
    "        # DB 정보 가져오기\n",
    "        db_info_str = glance(db_info_path, key_path)\n",
    "        db_info_dic = json.loads(db_info_str)\n",
    "        \n",
    "        # DB 연결\n",
    "        self.con = pymysql.connect(**db_info_dic, charset='utf8', autocommit=True, \n",
    "                                   cursorclass=pymysql.cursors.Cursor)\n",
    "        self.cur = self.con.cursor()\n",
    "        \n",
    "        # sql 가져오기\n",
    "        with open(sql_path, 'r') as f:\n",
    "            self.sql = f.read()\n",
    "        \n",
    "        # 초기화\n",
    "        self.code2name = None\n",
    "        self.name2code = None\n",
    "        self.update_order_today()\n",
    "                    \n",
    "    def update_order_today(self):\n",
    "        self.cur.execute(self.sql)\n",
    "        rows = self.cur.fetchall()\n",
    "        self.code2name = dict(rows)\n",
    "        self.name2code = dict(zip(self.code2name.values(), self.code2name.keys()))\n",
    "        \n",
    "    def __del__(self):\n",
    "        self.con.close()\n",
    "        \n",
    "db_mng = DBManager(db_info_path=DB_INFO_PATH, key_path=KEY_PATH, sql_path=SQL_PATH)\n",
    "db_mng.code2name"
   ]
  },
  {
   "cell_type": "code",
   "execution_count": null,
   "id": "8f06f844-0ac6-4267-8380-831769c28f4f",
   "metadata": {},
   "outputs": [],
   "source": []
  },
  {
   "cell_type": "code",
   "execution_count": 25,
   "id": "fa1a0f0f-f7bf-4a67-8fa5-d9349643ae4c",
   "metadata": {
    "tags": []
   },
   "outputs": [
    {
     "data": {
      "text/plain": [
       "(100, 20)"
      ]
     },
     "execution_count": 25,
     "metadata": {},
     "output_type": "execute_result"
    }
   ],
   "source": [
    "import cv2\n",
    "\n",
    "img_arr = np.zeros((20,100), dtype=np.uint8)\n",
    "cv2.rotate(img_arr, 0).shape"
   ]
  },
  {
   "cell_type": "code",
   "execution_count": 21,
   "id": "41b37816-0951-4de1-b6b9-bd6983dcae48",
   "metadata": {
    "tags": []
   },
   "outputs": [
    {
     "name": "stdout",
     "output_type": "stream",
     "text": [
      "0\n",
      "1\n",
      "2\n"
     ]
    }
   ],
   "source": [
    "print(cv2.ROTATE_90_CLOCKWISE)\n",
    "print(cv2.ROTATE_180)\n",
    "print(cv2.ROTATE_90_COUNTERCLOCKWISE)\n"
   ]
  },
  {
   "cell_type": "code",
   "execution_count": 26,
   "id": "8b4d4719-cd04-4bad-95e4-5308c2677eb1",
   "metadata": {
    "tags": []
   },
   "outputs": [
    {
     "ename": "AttributeError",
     "evalue": "module 'cv2' has no attribute 'warpPerspectiveTransform'",
     "output_type": "error",
     "traceback": [
      "\u001b[1;31m---------------------------------------------------------------------------\u001b[0m",
      "\u001b[1;31mAttributeError\u001b[0m                            Traceback (most recent call last)",
      "Cell \u001b[1;32mIn[26], line 1\u001b[0m\n\u001b[1;32m----> 1\u001b[0m \u001b[43mcv2\u001b[49m\u001b[38;5;241;43m.\u001b[39;49m\u001b[43mwarpPerspectiveTransform\u001b[49m\n",
      "\u001b[1;31mAttributeError\u001b[0m: module 'cv2' has no attribute 'warpPerspectiveTransform'"
     ]
    }
   ],
   "source": [
    "inv_M = cv2.getPerspectiveTransform(dst_polys[i], best_obj.src_polys[i])\n",
    "img_trans = cv2.warpPerspective(img, inv_M, (w, h))\n",
    "\n"
   ]
  },
  {
   "cell_type": "code",
   "execution_count": 38,
   "id": "96cdb87a-0683-46f1-a870-88eba90fa96f",
   "metadata": {
    "tags": []
   },
   "outputs": [
    {
     "name": "stdout",
     "output_type": "stream",
     "text": [
      "[[ 5.31141853e-01 -2.19509983e+00  1.55498212e+03]\n",
      " [-3.71707087e-01 -1.85918843e-01  4.69331489e+02]\n",
      " [-4.68961036e-04 -5.54033148e-04  1.00000000e+00]]\n"
     ]
    }
   ],
   "source": [
    "import numpy as np\n",
    "import cv2\n",
    "\n",
    "aa = np.random.randint(0, 2550, 8).reshape(4,2).astype(np.float32)\n",
    "bb = np.random.randint(0, 2550, 8).reshape(4,2).astype(np.float32)\n",
    "\n",
    "# pos = np.float32([[0,0], [w,0], [w,h], [0,h]])\n",
    "# M = cv2.getPerspectiveTransform(poly, pos)\n",
    "\n",
    "M = cv2.getPerspectiveTransform(aa,bb)\n",
    "print(M)"
   ]
  },
  {
   "cell_type": "code",
   "execution_count": 36,
   "id": "0f03ce0c-0b6a-4820-a85b-25ce0f28d9cb",
   "metadata": {
    "tags": []
   },
   "outputs": [
    {
     "data": {
      "text/plain": [
       "array([[ 1.84428172e+01,  3.25474943e+01, -5.10876138e+04],\n",
       "       [ 6.53658180e+00,  1.42000874e+01, -1.99186574e+04],\n",
       "       [ 1.48645556e-02,  2.39549511e-02, -3.86266835e+01]])"
      ]
     },
     "execution_count": 36,
     "metadata": {},
     "output_type": "execute_result"
    }
   ],
   "source": [
    "np.linalg.inv(M)"
   ]
  },
  {
   "cell_type": "code",
   "execution_count": 37,
   "id": "ff9a7426-b3e6-45b7-903b-f9bb99b016ae",
   "metadata": {
    "tags": []
   },
   "outputs": [
    {
     "data": {
      "text/plain": [
       "array([[ 1.84428172e+01,  3.25474943e+01, -5.10876138e+04],\n",
       "       [ 6.53658180e+00,  1.42000874e+01, -1.99186574e+04],\n",
       "       [ 1.48645556e-02,  2.39549511e-02, -3.86266835e+01]])"
      ]
     },
     "execution_count": 37,
     "metadata": {},
     "output_type": "execute_result"
    }
   ],
   "source": [
    "np.linalg.pinv(M)"
   ]
  },
  {
   "cell_type": "code",
   "execution_count": 41,
   "id": "f258fef0-0c5f-4a60-b6fd-3f7f60fb28ac",
   "metadata": {
    "tags": []
   },
   "outputs": [
    {
     "data": {
      "text/plain": [
       "(4, 1, 2)"
      ]
     },
     "execution_count": 41,
     "metadata": {},
     "output_type": "execute_result"
    }
   ],
   "source": [
    "cv2.perspectiveTransform(aa.reshape(-1, 1, 2), M).shape"
   ]
  },
  {
   "cell_type": "code",
   "execution_count": 44,
   "id": "2966206d-27e6-47b3-8618-29e85fcd1074",
   "metadata": {
    "tags": []
   },
   "outputs": [
    {
     "data": {
      "text/plain": [
       "(219, 123)"
      ]
     },
     "execution_count": 44,
     "metadata": {},
     "output_type": "execute_result"
    }
   ],
   "source": [
    "from common.text import *\n",
    "from PIL import Image\n",
    "\n",
    "img_pil = Image.open(LOGO_PATH)\n",
    "\n",
    "img_pil.size"
   ]
  },
  {
   "cell_type": "code",
   "execution_count": 45,
   "id": "dab663fd-d4b3-43c7-8b05-9c1e7af273f3",
   "metadata": {
    "tags": []
   },
   "outputs": [],
   "source": [
    "import json\n",
    "\n",
    "path = 'test.json'\n",
    "with open(path, 'r', encoding=\"utf-8\") as f:\n",
    "    code2name = json.load(f)"
   ]
  },
  {
   "cell_type": "code",
   "execution_count": 47,
   "id": "4e78ff9b-38ef-4c3c-87db-420f6f5bf0bf",
   "metadata": {
    "tags": []
   },
   "outputs": [
    {
     "data": {
      "text/plain": [
       "'2023.12.050'"
      ]
     },
     "execution_count": 47,
     "metadata": {},
     "output_type": "execute_result"
    }
   ],
   "source": [
    "import re\n",
    "\n",
    "text = \"2023.12.05 0\"\n",
    "text = re.sub(\"\\s\", \"\", text)\n",
    "text"
   ]
  }
 ],
 "metadata": {
  "kernelspec": {
   "display_name": "Python 3 (ipykernel)",
   "language": "python",
   "name": "python3"
  },
  "language_info": {
   "codemirror_mode": {
    "name": "ipython",
    "version": 3
   },
   "file_extension": ".py",
   "mimetype": "text/x-python",
   "name": "python",
   "nbconvert_exporter": "python",
   "pygments_lexer": "ipython3",
   "version": "3.8.10"
  }
 },
 "nbformat": 4,
 "nbformat_minor": 5
}
